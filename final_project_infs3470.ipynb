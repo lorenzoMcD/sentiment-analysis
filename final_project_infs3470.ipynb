{
 "cells": [
  {
   "cell_type": "markdown",
   "metadata": {},
   "source": [
    "# Sentiment Analysis Twitter"
   ]
  },
  {
   "attachments": {},
   "cell_type": "markdown",
   "metadata": {},
   "source": [
    "For my final project I will perform sentiment analysis on tweets from twitter!\n",
    "**Sentiment analysis** is process of understanding an opinion from written or spoken language."
   ]
  },
  {
   "cell_type": "markdown",
   "metadata": {},
   "source": [
    "First we need to import all the modules below\n",
    "The module we will be using to grab tweets from twitter is called tweepy.\n",
    "From their website, 'Tweepy is a easy-to-use Python library for accessing the Twitter API.'\n"
   ]
  },
  {
   "cell_type": "code",
   "execution_count": 283,
   "metadata": {},
   "outputs": [],
   "source": [
    "from tweepy.streaming import StreamListener\n",
    "from tweepy import OAuthHandler\n",
    "from tweepy import Stream\n",
    "import csv\n",
    "import re \n",
    "import tweepy\n",
    "import pandas as pd"
   ]
  },
  {
   "cell_type": "markdown",
   "metadata": {},
   "source": [
    "**Textblob** is the module we will be using to assign sentiments to our tweets.\n",
    "Taken from their website , \"**TextBlob** is a Python (2 and 3) library for processing **textual data**. It provides a simple API for diving into common natural language processing (NLP) tasks such as part-of-speech tagging, noun phrase extraction, **sentiment analysis**, classification, translation, and more.\""
   ]
  },
  {
   "cell_type": "code",
   "execution_count": 284,
   "metadata": {},
   "outputs": [],
   "source": [
    "from textblob import TextBlob "
   ]
  },
  {
   "cell_type": "markdown",
   "metadata": {},
   "source": [
    "Block of code below houses information needeed in order for twitter api to work.\n",
    "You must go to twitter.com/apps in order to create your own unique id.\n"
   ]
  },
  {
   "cell_type": "code",
   "execution_count": 285,
   "metadata": {},
   "outputs": [],
   "source": [
    "consumer_key = \"v63HOd9y033rfmhpHmyoIJCdZ\"\n",
    "consumer_secret = \"gXWjTN3i7ehAEeFUZQ8lCMYygGMH35oqn27Ic6yMTGySkG9z9S\"\n",
    "access_token = \"1116077337588764674-IDHTKSp8nYxaiboyJicC0fTxWQcjXD\"\n",
    "access_secret = \"01m0Ij9zlMtzkTFSFCiJrqK8wwAETnGebLFPDlHaklPw2\"\n"
   ]
  },
  {
   "cell_type": "markdown",
   "metadata": {},
   "source": [
    "This code block passes our ID through the API "
   ]
  },
  {
   "cell_type": "code",
   "execution_count": 287,
   "metadata": {},
   "outputs": [],
   "source": [
    "auth = tweepy.OAuthHandler(consumer_key, consumer_secret)\n",
    "auth.set_access_token(access_token, access_secret)\n",
    "api = tweepy.API(auth)"
   ]
  },
  {
   "cell_type": "markdown",
   "metadata": {},
   "source": [
    "Below is some functions that we will need in order to do our anlaysis."
   ]
  },
  {
   "cell_type": "code",
   "execution_count": 288,
   "metadata": {},
   "outputs": [],
   "source": [
    "def clean_tweet(tweet): \n",
    "        \n",
    "       # Utility function to clean tweet text by removing links, special characters \n",
    "        #using simple regex statements. \n",
    "      \n",
    "        return ' '.join(re.sub(\"([^0-9A-Za-z\\t])|(\\w+:\\/\\/\\S+)\", \" \", tweet).split())"
   ]
  },
  {
   "cell_type": "code",
   "execution_count": 289,
   "metadata": {},
   "outputs": [],
   "source": [
    "def get_tweet_sentiment(tweet): \n",
    "        \n",
    "       # Utility function to classify sentiment of passed tweet \n",
    "       # using textblob's sentiment method \n",
    "        \n",
    "        # create TextBlob object of passed tweet text \n",
    "        analysis = TextBlob(clean_tweet(tweet)) \n",
    "        # set sentiment \n",
    "        if (analysis.sentiment.polarity == 0):  \n",
    "           \n",
    "            return 'neutral'\n",
    "        elif (analysis.sentiment.polarity > 0 and analysis.sentiment.polarity <= 0.3):\n",
    "            \n",
    "            return 'weakly positive'\n",
    "        elif (analysis.sentiment.polarity > 0.3 and analysis.sentiment.polarity <= 0.6):                \n",
    "            \n",
    "            return 'positive'\n",
    "        elif (analysis.sentiment.polarity > 0.6 and analysis.sentiment.polarity <= 1):\n",
    "            \n",
    "            return 'stongly positive'\n",
    "        elif (analysis.sentiment.polarity > -0.3 and analysis.sentiment.polarity <= 0):\n",
    "         \n",
    "            return 'weakly negative'\n",
    "        elif (analysis.sentiment.polarity > -0.6 and analysis.sentiment.polarity <= -0.3):\n",
    "           \n",
    "            return 'negative'\n",
    "        elif (analysis.sentiment.polarity > -1 and analysis.sentiment.polarity <= -0.6):\n",
    "           \n",
    "            return 'strongly negative'"
   ]
  },
  {
   "cell_type": "code",
   "execution_count": 360,
   "metadata": {},
   "outputs": [],
   "source": [
    "def catg_sent_view(a): \n",
    "    # function takes in list and counts occurences of sentiments, adds to dictionary then finally prints\n",
    "    container = []\n",
    "    positive = wpositive = spositive = negative = wnegative = snegative = neutral = 0 # set values to zero\n",
    "\n",
    "    for item in a:\n",
    "        if (item == 'neutral'): \n",
    "            neutral += 1\n",
    "        elif (item == 'weakly positive'):\n",
    "            wpositive += 1\n",
    "        elif (item == 'positive'):\n",
    "            positive += 1\n",
    "        elif (item == 'strongly positive'):\n",
    "            spositive += 1\n",
    "        elif (item == 'weakly negative'):\n",
    "            wnegative += 1\n",
    "        elif (item == 'negative'):\n",
    "            negative += 1\n",
    "        elif (item == 'strongly negative'):\n",
    "            snegative += 1\n",
    "\n",
    "# create dictionary to organize data and present better\n",
    "    sent_dict = {'positive':positive,'weakly positive':wpositive,'strongly positive':spositive,'negative':negative,'weakly negative':wnegative,'strongly negative':snegative,'neutral':neutral}\n",
    "    for key,val in sent_dict.items():\n",
    "        print(key,':',val)\n",
    "   "
   ]
  },
  {
   "cell_type": "markdown",
   "metadata": {},
   "source": [
    "Below we will need to point to what user we want to analyze"
   ]
  },
  {
   "cell_type": "code",
   "execution_count": 286,
   "metadata": {},
   "outputs": [],
   "source": [
    "screen_name = 'realDonaldTrump' # variable that holds screen name of twitter user you want to do sent analysis on"
   ]
  },
  {
   "cell_type": "code",
   "execution_count": 290,
   "metadata": {},
   "outputs": [],
   "source": [
    "alltweets = [] # list will hold all of our tweets harvested"
   ]
  },
  {
   "cell_type": "markdown",
   "metadata": {},
   "source": [
    "Below we are grabbing the tweets from the user's profile. Once the tweet is grabbed we pass the tweet through our **clean_tweet** function, which removes special characters from the text. We want to simplify the text as much as possible for our analysis. After this is performede then the cleaned tweets are passed through the **get_tweet_sentiment** function, which  analyses and assigns the sentimemt based on its  **polarity**. **Polarity** in sentiment analysis refers to identifying sentiment orientation (positive, neutral, and negative) in written or spoken language. Finally once all of this is done, we create a **csv** file to house our data.\n"
   ]
  },
  {
   "cell_type": "code",
   "execution_count": 291,
   "metadata": {
    "scrolled": true
   },
   "outputs": [
    {
     "name": "stdout",
     "output_type": "stream",
     "text": [
      "getting tweets:\n",
      "tweets downloaded so far 400\n",
      "getting tweets:\n",
      "tweets downloaded so far 600\n",
      "getting tweets:\n",
      "tweets downloaded so far 800\n",
      "getting tweets:\n",
      "tweets downloaded so far 1000\n",
      "getting tweets:\n",
      "tweets downloaded so far 1200\n",
      "getting tweets:\n",
      "tweets downloaded so far 1400\n",
      "getting tweets:\n",
      "tweets downloaded so far 1600\n",
      "getting tweets:\n",
      "tweets downloaded so far 1799\n",
      "getting tweets:\n",
      "tweets downloaded so far 1999\n",
      "getting tweets:\n",
      "tweets downloaded so far 2198\n",
      "getting tweets:\n",
      "tweets downloaded so far 2398\n",
      "getting tweets:\n",
      "tweets downloaded so far 2596\n",
      "getting tweets:\n",
      "tweets downloaded so far 2792\n",
      "getting tweets:\n",
      "tweets downloaded so far 2992\n",
      "getting tweets:\n",
      "tweets downloaded so far 3192\n",
      "getting tweets:\n",
      "tweets downloaded so far 3193\n",
      "getting tweets:\n",
      "tweets downloaded so far 3193\n"
     ]
    }
   ],
   "source": [
    "new_tweets = api.user_timeline(screen_name = screen_name,count=200) # will grab 200 tweets at time from users profile\n",
    "\n",
    "alltweets.extend(new_tweets)\n",
    "\n",
    "oldest = alltweets[-1].id - 1\n",
    "\n",
    "while len(new_tweets) > 0:\n",
    "    print('getting tweets:')\n",
    "    \n",
    "    \n",
    "    new_tweets = api.user_timeline(screen_name = screen_name, count = 200,max_id = oldest)\n",
    "    \n",
    "    # save most recent tweets\n",
    "    alltweets.extend(new_tweets)\n",
    "    \n",
    "    #update id of oldest tweet by 1 \n",
    "    oldest = alltweets[-1].id - 1\n",
    "    \n",
    "    print (\"tweets harvested so far\",len(alltweets))\n",
    "    \n",
    "    outtweets = [[tweet.created_at, tweet.text,get_tweet_sentiment(tweet.text)]for tweet in alltweets]\n",
    "     #write to csv\n",
    "    with open('tweets.csv','w') as f:\n",
    "        writer = csv.writer(f)\n",
    "        writer.writerow([\"date\",\"text\",\"sentiment\"])\n",
    "        writer.writerows(outtweets)"
   ]
  },
  {
   "cell_type": "markdown",
   "metadata": {},
   "source": [
    "We will create **panda dataframe** from our csv file in order to visualize the data. "
   ]
  },
  {
   "cell_type": "code",
   "execution_count": 292,
   "metadata": {},
   "outputs": [],
   "source": [
    "df = pd.read_csv('tweets.csv') # create dataframe\n",
    "tempdf = pd.read_csv('tweets.csv') # creates copy of dataframe"
   ]
  },
  {
   "cell_type": "code",
   "execution_count": 294,
   "metadata": {},
   "outputs": [],
   "source": [
    "del tempdf['text'] # remove text col from our temp data frame "
   ]
  },
  {
   "cell_type": "markdown",
   "metadata": {},
   "source": [
    "This code that will display the different sentiment values for each month. \n",
    "Code will iterate over both date and sentiment columns in dataframe and assign month to sentiment. "
   ]
  },
  {
   "cell_type": "code",
   "execution_count": 297,
   "metadata": {},
   "outputs": [],
   "source": [
    "jan = []  # create empty list for months in tweets\n",
    "feb = []\n",
    "march = []\n",
    "april = []\n",
    "for date,sent in tempdf.itertuples(index=False): # will go through both columns\n",
    "    if date[6] == '4':\n",
    "        april.append(sent)\n",
    "    elif date[6] == '3':\n",
    "        march.append(sent)\n",
    "    elif date[6] == '2':\n",
    "        feb.append(sent)\n",
    "    elif date[6] == '1':\n",
    "        jan.append(sent)\n",
    "        "
   ]
  },
  {
   "cell_type": "markdown",
   "metadata": {},
   "source": [
    "Sentiment Values for months January - April."
   ]
  },
  {
   "cell_type": "code",
   "execution_count": 361,
   "metadata": {},
   "outputs": [
    {
     "name": "stdout",
     "output_type": "stream",
     "text": [
      "JANUARY\n",
      "\n",
      "positive : 119\n",
      "weakly positive : 186\n",
      "strongly positive : 0\n",
      "negative : 32\n",
      "weakly negative : 84\n",
      "strongly negative : 5\n",
      "neutral : 198\n",
      "-----------------------\n",
      "FEBUARY\n",
      "\n",
      "positive : 92\n",
      "weakly positive : 132\n",
      "strongly positive : 0\n",
      "negative : 21\n",
      "weakly negative : 73\n",
      "strongly negative : 6\n",
      "neutral : 155\n",
      "-----------------------\n",
      "MARCH\n",
      "\n",
      "positive : 46\n",
      "weakly positive : 93\n",
      "strongly positive : 0\n",
      "negative : 20\n",
      "weakly negative : 56\n",
      "strongly negative : 5\n",
      "neutral : 140\n",
      "-----------------------\n",
      "APRIL\n",
      "\n",
      "positive : 56\n",
      "weakly positive : 80\n",
      "strongly positive : 0\n",
      "negative : 21\n",
      "weakly negative : 47\n",
      "strongly negative : 4\n",
      "neutral : 120\n"
     ]
    }
   ],
   "source": [
    "print('JANUARY')\n",
    "print('')\n",
    "catg_sent_view(jan)\n",
    "print('-----------------------')\n",
    "print('FEBUARY')\n",
    "print('')\n",
    "catg_sent_view(feb)\n",
    "print('-----------------------')\n",
    "print('MARCH')\n",
    "print('')\n",
    "catg_sent_view(march) \n",
    "print('-----------------------')\n",
    "print('APRIL')\n",
    "print('')\n",
    "catg_sent_view(april)"
   ]
  },
  {
   "cell_type": "markdown",
   "metadata": {},
   "source": [
    "Below I created a bar and pie chart of our collected data.\n",
    "**(NOTE)** You will notice that the neutral sentiment is the largest from our tweets.\n",
    "This is because the algorithm can not determine what the appropriate sentiment is, so it sets the sentiment to neutral."
   ]
  },
  {
   "cell_type": "code",
   "execution_count": 357,
   "metadata": {},
   "outputs": [],
   "source": [
    "# import data visualization tool\n",
    "import matplotlib.pyplot as plt"
   ]
  },
  {
   "cell_type": "code",
   "execution_count": 358,
   "metadata": {},
   "outputs": [
    {
     "data": {
      "image/png": "[encoded data removed]",
      "text/plain": [
       "<Figure size 720x288 with 1 Axes>"
      ]
     },
     "metadata": {
      "needs_background": "light"
     },
     "output_type": "display_data"
    }
   ],
   "source": [
    "# creates a bar chart\n",
    "fig,ax = plt.subplots()\n",
    "fig.set_size_inches(10,4)\n",
    "ax = pd.value_counts(df['sentiment']).plot.bar()\n",
    "ax.set(xlabel='sentiments', ylabel='count', title=\"Sentiments from Tweets\");"
   ]
  },
  {
   "cell_type": "code",
   "execution_count": 362,
   "metadata": {},
   "outputs": [
    {
     "data": {
      "image/png": "[encoded data removed]",
      "text/plain": [
       "<Figure size 720x288 with 1 Axes>"
      ]
     },
     "metadata": {},
     "output_type": "display_data"
    }
   ],
   "source": [
    "#creates pie chart\n",
    "fig,ax = plt.subplots()\n",
    "fig.set_size_inches(10,4)\n",
    "ax = pd.value_counts(df['sentiment']).plot.pie()\n",
    "ax.set(title=\"Sentiments from Tweets\");"
   ]
  },
  {
   "cell_type": "markdown",
   "metadata": {},
   "source": [
    "<h2>Summary:</h2>\n",
    "\n",
    "\n",
    "The analysis that we perfromed today can be improved on by further cleaning the text data. In order to make data more accurate you will need to repeatedly clean your data and perfom the anlaysis again until you get the desired results. "
   ]
  },
  {
   "cell_type": "code",
   "execution_count": null,
   "metadata": {},
   "outputs": [],
   "source": []
  }
 ],
 "metadata": {
  "kernelspec": {
   "display_name": "Python 3",
   "language": "python",
   "name": "python3"
  },
  "language_info": {
   "codemirror_mode": {
    "name": "ipython",
    "version": 3
   },
   "file_extension": ".py",
   "mimetype": "text/x-python",
   "name": "python",
   "nbconvert_exporter": "python",
   "pygments_lexer": "ipython3",
   "version": "3.7.1"
  }
 },
 "nbformat": 4,
 "nbformat_minor": 2
}
